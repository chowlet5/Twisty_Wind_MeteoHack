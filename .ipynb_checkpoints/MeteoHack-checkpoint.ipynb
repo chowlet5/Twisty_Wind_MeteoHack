{
 "cells": [
  {
   "cell_type": "markdown",
   "metadata": {},
   "source": [
    "# Download Data Section"
   ]
  },
  {
   "cell_type": "code",
   "execution_count": 59,
   "metadata": {},
   "outputs": [
    {
     "name": "stdout",
     "output_type": "stream",
     "text": [
      "https://dd.weather.gc.ca/climate/ahccd/geojson/historical/monthly/BC\n"
     ]
    }
   ],
   "source": [
    "from bs4 import BeautifulSoup\n",
    "import requests\n",
    "import pandas as pd\n",
    "import datetime\n",
    "prov = 'BC'\n",
    "station = 1012573\n",
    "url = fr'https://dd.weather.gc.ca/climate/ahccd/geojson/historical/monthly/{prov}'\n",
    "file_start = f'AHCCD_hist_monthly_{prov}_{station}'\n",
    "print(url)\n",
    "\n",
    "def listFD(url,file_start=''):\n",
    "    page = requests.get(url).text\n",
    "\n",
    "    soup = BeautifulSoup(page, 'html.parser')\n",
    "    return [url + '/' + node.get('href') for node in soup.find_all('a') if node.get('href').startswith(file_start)]\n",
    "\n",
    "file_list = listFD(url,file_start)\n",
    "\n"
   ]
  },
  {
   "cell_type": "code",
   "execution_count": 15,
   "metadata": {},
   "outputs": [
    {
     "name": "stdout",
     "output_type": "stream",
     "text": [
      "https://dd.weather.gc.ca/climate/ahccd/geojson/historical/monthly/BC\n"
     ]
    },
    {
     "ename": "IndexError",
     "evalue": "list index out of range",
     "output_type": "error",
     "traceback": [
      "\u001b[1;31m---------------------------------------------------------------------------\u001b[0m",
      "\u001b[1;31mIndexError\u001b[0m                                Traceback (most recent call last)",
      "\u001b[1;32m<ipython-input-15-9d74ecdb6fff>\u001b[0m in \u001b[0;36m<module>\u001b[1;34m\u001b[0m\n\u001b[0;32m     19\u001b[0m \u001b[1;32mfor\u001b[0m \u001b[0mfile\u001b[0m \u001b[1;32min\u001b[0m \u001b[0mfile_list\u001b[0m\u001b[1;33m:\u001b[0m\u001b[1;33m\u001b[0m\u001b[1;33m\u001b[0m\u001b[0m\n\u001b[0;32m     20\u001b[0m     \u001b[0mname\u001b[0m \u001b[1;33m=\u001b[0m \u001b[0mfile\u001b[0m\u001b[1;33m.\u001b[0m\u001b[0mreplace\u001b[0m\u001b[1;33m(\u001b[0m\u001b[1;34m'.json'\u001b[0m\u001b[1;33m,\u001b[0m\u001b[1;34m''\u001b[0m\u001b[1;33m)\u001b[0m\u001b[1;33m\u001b[0m\u001b[1;33m\u001b[0m\u001b[0m\n\u001b[1;32m---> 21\u001b[1;33m     \u001b[0mname\u001b[0m \u001b[1;33m=\u001b[0m \u001b[0mname\u001b[0m\u001b[1;33m.\u001b[0m\u001b[0msplit\u001b[0m\u001b[1;33m(\u001b[0m\u001b[1;34m'6'\u001b[0m\u001b[1;33m)\u001b[0m\u001b[1;33m[\u001b[0m\u001b[1;33m-\u001b[0m\u001b[1;36m2\u001b[0m\u001b[1;33m]\u001b[0m\u001b[1;33m\u001b[0m\u001b[1;33m\u001b[0m\u001b[0m\n\u001b[0m\u001b[0;32m     22\u001b[0m     \u001b[1;32mif\u001b[0m \u001b[0mfirst\u001b[0m\u001b[1;33m:\u001b[0m\u001b[1;33m\u001b[0m\u001b[1;33m\u001b[0m\u001b[0m\n\u001b[0;32m     23\u001b[0m         \u001b[0mdf\u001b[0m \u001b[1;33m=\u001b[0m \u001b[0mpd\u001b[0m\u001b[1;33m.\u001b[0m\u001b[0mread_csv\u001b[0m\u001b[1;33m(\u001b[0m\u001b[0mfile\u001b[0m\u001b[1;33m,\u001b[0m \u001b[0mindex_col\u001b[0m \u001b[1;33m=\u001b[0m \u001b[1;36m0\u001b[0m\u001b[1;33m,\u001b[0m \u001b[0mheader\u001b[0m \u001b[1;33m=\u001b[0m \u001b[1;32mNone\u001b[0m\u001b[1;33m,\u001b[0m \u001b[0mnames\u001b[0m \u001b[1;33m=\u001b[0m \u001b[1;33m[\u001b[0m\u001b[1;34m'Year'\u001b[0m\u001b[1;33m,\u001b[0m\u001b[0mname\u001b[0m\u001b[1;33m]\u001b[0m\u001b[1;33m)\u001b[0m\u001b[1;33m\u001b[0m\u001b[1;33m\u001b[0m\u001b[0m\n",
      "\u001b[1;31mIndexError\u001b[0m: list index out of range"
     ]
    }
   ],
   "source": [
    "prov = 'BC'\n",
    "station = 1012573\n",
    "\n",
    "url = fr'https://dd.weather.gc.ca/climate/ahccd/geojson/historical/monthly/{prov}'\n",
    "file_start = f'AHCCD_hist_monthly_{prov}_{station}'\n",
    "print(url)\n",
    "\n",
    "def listFD(url,file_start=''):\n",
    "    page = requests.get(url).text\n",
    "\n",
    "    soup = BeautifulSoup(page, 'html.parser')\n",
    "    return [url + '/' + node.get('href') for node in soup.find_all('a') if node.get('href').startswith(file_start)]\n",
    "\n",
    "file_list = listFD(url,file_start)\n",
    "\n",
    "\n",
    "first = True\n",
    "\n",
    "for file in file_list:\n",
    "    name = file.replace('.json','')\n",
    "    name = name.split('_')[-2]\n",
    "    if first:\n",
    "        df = pd.read_json(file, index_col = 0, header = None, names = ['Year',name])\n",
    "        first = False\n",
    "    else:\n",
    "        df_new = pd.read_json(file, index_col = 0, header = None, names = ['Year',name])\n",
    "        df = pd.concat([df,df_new],axis = 1, join_axes=[df.index])\n",
    "\n",
    "df = df.replace(-9999.9,np.nan)\n",
    "mean_value = []\n",
    "std_value = []"
   ]
  },
  {
   "cell_type": "code",
   "execution_count": 45,
   "metadata": {},
   "outputs": [],
   "source": [
    "\n",
    "\n",
    "df = pd.read_json(file_list[1])\n",
    "\n",
    "data = []\n",
    "for row in df.features:\n",
    "    year = row['properties']['year']\n",
    "    month = row['properties']['period']\n",
    "    data.append([datetime.datetime.strptime(f'{year} {month}' , '%Y %b'),row['properties']['value']])\n",
    "\n",
    "data_type = df.features[0]['properties']['measure_type']"
   ]
  },
  {
   "cell_type": "code",
   "execution_count": 63,
   "metadata": {},
   "outputs": [
    {
     "ename": "AttributeError",
     "evalue": "'DataFrame' object has no attribute 'features'",
     "output_type": "error",
     "traceback": [
      "\u001b[1;31m---------------------------------------------------------------------------\u001b[0m",
      "\u001b[1;31mAttributeError\u001b[0m                            Traceback (most recent call last)",
      "\u001b[1;32m<ipython-input-63-7aeaca9aef14>\u001b[0m in \u001b[0;36m<module>\u001b[1;34m\u001b[0m\n\u001b[0;32m     20\u001b[0m     \u001b[1;32melse\u001b[0m\u001b[1;33m:\u001b[0m\u001b[1;33m\u001b[0m\u001b[1;33m\u001b[0m\u001b[0m\n\u001b[0;32m     21\u001b[0m         \u001b[0mdata\u001b[0m \u001b[1;33m=\u001b[0m \u001b[1;33m[\u001b[0m\u001b[1;33m]\u001b[0m\u001b[1;33m\u001b[0m\u001b[1;33m\u001b[0m\u001b[0m\n\u001b[1;32m---> 22\u001b[1;33m         \u001b[1;32mfor\u001b[0m \u001b[0mrow\u001b[0m \u001b[1;32min\u001b[0m \u001b[0mdf\u001b[0m\u001b[1;33m.\u001b[0m\u001b[0mfeatures\u001b[0m\u001b[1;33m:\u001b[0m\u001b[1;33m\u001b[0m\u001b[1;33m\u001b[0m\u001b[0m\n\u001b[0m\u001b[0;32m     23\u001b[0m             \u001b[0myear\u001b[0m \u001b[1;33m=\u001b[0m \u001b[0mrow\u001b[0m\u001b[1;33m[\u001b[0m\u001b[1;34m'properties'\u001b[0m\u001b[1;33m]\u001b[0m\u001b[1;33m[\u001b[0m\u001b[1;34m'year'\u001b[0m\u001b[1;33m]\u001b[0m\u001b[1;33m\u001b[0m\u001b[1;33m\u001b[0m\u001b[0m\n\u001b[0;32m     24\u001b[0m             \u001b[0mmonth\u001b[0m \u001b[1;33m=\u001b[0m \u001b[0mrow\u001b[0m\u001b[1;33m[\u001b[0m\u001b[1;34m'properties'\u001b[0m\u001b[1;33m]\u001b[0m\u001b[1;33m[\u001b[0m\u001b[1;34m'period'\u001b[0m\u001b[1;33m]\u001b[0m\u001b[1;33m\u001b[0m\u001b[1;33m\u001b[0m\u001b[0m\n",
      "\u001b[1;32m~\\Anaconda3\\lib\\site-packages\\pandas\\core\\generic.py\u001b[0m in \u001b[0;36m__getattr__\u001b[1;34m(self, name)\u001b[0m\n\u001b[0;32m   5065\u001b[0m             \u001b[1;32mif\u001b[0m \u001b[0mself\u001b[0m\u001b[1;33m.\u001b[0m\u001b[0m_info_axis\u001b[0m\u001b[1;33m.\u001b[0m\u001b[0m_can_hold_identifiers_and_holds_name\u001b[0m\u001b[1;33m(\u001b[0m\u001b[0mname\u001b[0m\u001b[1;33m)\u001b[0m\u001b[1;33m:\u001b[0m\u001b[1;33m\u001b[0m\u001b[1;33m\u001b[0m\u001b[0m\n\u001b[0;32m   5066\u001b[0m                 \u001b[1;32mreturn\u001b[0m \u001b[0mself\u001b[0m\u001b[1;33m[\u001b[0m\u001b[0mname\u001b[0m\u001b[1;33m]\u001b[0m\u001b[1;33m\u001b[0m\u001b[1;33m\u001b[0m\u001b[0m\n\u001b[1;32m-> 5067\u001b[1;33m             \u001b[1;32mreturn\u001b[0m \u001b[0mobject\u001b[0m\u001b[1;33m.\u001b[0m\u001b[0m__getattribute__\u001b[0m\u001b[1;33m(\u001b[0m\u001b[0mself\u001b[0m\u001b[1;33m,\u001b[0m \u001b[0mname\u001b[0m\u001b[1;33m)\u001b[0m\u001b[1;33m\u001b[0m\u001b[1;33m\u001b[0m\u001b[0m\n\u001b[0m\u001b[0;32m   5068\u001b[0m \u001b[1;33m\u001b[0m\u001b[0m\n\u001b[0;32m   5069\u001b[0m     \u001b[1;32mdef\u001b[0m \u001b[0m__setattr__\u001b[0m\u001b[1;33m(\u001b[0m\u001b[0mself\u001b[0m\u001b[1;33m,\u001b[0m \u001b[0mname\u001b[0m\u001b[1;33m,\u001b[0m \u001b[0mvalue\u001b[0m\u001b[1;33m)\u001b[0m\u001b[1;33m:\u001b[0m\u001b[1;33m\u001b[0m\u001b[1;33m\u001b[0m\u001b[0m\n",
      "\u001b[1;31mAttributeError\u001b[0m: 'DataFrame' object has no attribute 'features'"
     ]
    }
   ],
   "source": [
    "first = True\n",
    "\n",
    "for file in file_list:\n",
    "\n",
    "\n",
    "    if first:\n",
    "        raw_data = pd.read_json(file)\n",
    "\n",
    "        data = []\n",
    "        for row in raw_data.features:\n",
    "            year = row['properties']['year']\n",
    "            month = row['properties']['period']\n",
    "            data.append([datetime.datetime.strptime(f'{year} {month}' , '%Y %b'),row['properties']['value']])\n",
    "\n",
    "        data_type = df.features[0]['properties']['measure_type']\n",
    "        df = pd.DataFrame(data,columns =['year',data_type])\n",
    "        df = df.set_index('year')\n",
    "        df = df.sort_index()\n",
    "        first = False\n",
    "    else:\n",
    "        raw_data = pd.read_json(file)\n",
    "        data = []\n",
    "        for row in raw_data.features:\n",
    "            year = row['properties']['year']\n",
    "            month = row['properties']['period']\n",
    "            data.append([datetime.datetime.strptime(f'{year} {month}' , '%Y %b'),row['properties']['value']])\n",
    "\n",
    "        data_type = df.features[0]['properties']['measure_type']\n",
    "        df_temp = pd.DataFrame(data,columns =['year',data_type])\n",
    "        df_temp = df_temp.set_index('year')\n",
    "        df_temp = df_temp.sort_index()\n",
    "        df = pd.concat([df,df_temp],axis = 1, join_axes=[df.index])"
   ]
  },
  {
   "cell_type": "code",
   "execution_count": 55,
   "metadata": {},
   "outputs": [],
   "source": [
    "df_temp = pd.DataFrame(data,columns =['year',data_type])\n",
    "df_temp = df_temp.set_index('year')\n",
    "df_temp = df_temp.sort_index()"
   ]
  },
  {
   "cell_type": "code",
   "execution_count": 35,
   "metadata": {},
   "outputs": [
    {
     "data": {
      "text/plain": [
       "{'type': 'Feature',\n",
       " 'geometry': {'type': 'Point',\n",
       "  'coordinates': [-123.7275002778, 48.7347222222]},\n",
       " 'properties': {'directory': 'climate/ahccd/geojson/historical/monthly/BC/',\n",
       "  'period_directory': 'monthly',\n",
       "  'filename': 'AHCCD_hist_monthly_BC_1012573_RA_P1M.json',\n",
       "  'station_id': '1012573',\n",
       "  'year': '1926',\n",
       "  'period': 'Apr',\n",
       "  'units': 'mm',\n",
       "  'measure_type': 'rain',\n",
       "  'value': '56.2',\n",
       "  'lat': '48.7347222222222',\n",
       "  'lon': '-123.727500277778'}}"
      ]
     },
     "execution_count": 35,
     "metadata": {},
     "output_type": "execute_result"
    }
   ],
   "source": [
    "df.features[0]"
   ]
  },
  {
   "cell_type": "code",
   "execution_count": 61,
   "metadata": {},
   "outputs": [
    {
     "data": {
      "text/html": [
       "<div>\n",
       "<style scoped>\n",
       "    .dataframe tbody tr th:only-of-type {\n",
       "        vertical-align: middle;\n",
       "    }\n",
       "\n",
       "    .dataframe tbody tr th {\n",
       "        vertical-align: top;\n",
       "    }\n",
       "\n",
       "    .dataframe thead th {\n",
       "        text-align: right;\n",
       "    }\n",
       "</style>\n",
       "<table border=\"1\" class=\"dataframe\">\n",
       "  <thead>\n",
       "    <tr style=\"text-align: right;\">\n",
       "      <th></th>\n",
       "      <th>snow</th>\n",
       "    </tr>\n",
       "    <tr>\n",
       "      <th>year</th>\n",
       "      <th></th>\n",
       "    </tr>\n",
       "  </thead>\n",
       "  <tbody>\n",
       "    <tr>\n",
       "      <th>1926-01-01</th>\n",
       "      <td>0.0</td>\n",
       "    </tr>\n",
       "    <tr>\n",
       "      <th>1926-02-01</th>\n",
       "      <td>0.0</td>\n",
       "    </tr>\n",
       "    <tr>\n",
       "      <th>1926-03-01</th>\n",
       "      <td>0.0</td>\n",
       "    </tr>\n",
       "    <tr>\n",
       "      <th>1926-04-01</th>\n",
       "      <td>0.0</td>\n",
       "    </tr>\n",
       "    <tr>\n",
       "      <th>1926-05-01</th>\n",
       "      <td>0.0</td>\n",
       "    </tr>\n",
       "  </tbody>\n",
       "</table>\n",
       "</div>"
      ],
      "text/plain": [
       "           snow\n",
       "year           \n",
       "1926-01-01  0.0\n",
       "1926-02-01  0.0\n",
       "1926-03-01  0.0\n",
       "1926-04-01  0.0\n",
       "1926-05-01  0.0"
      ]
     },
     "execution_count": 61,
     "metadata": {},
     "output_type": "execute_result"
    }
   ],
   "source": [
    "df.head()"
   ]
  },
  {
   "cell_type": "code",
   "execution_count": null,
   "metadata": {},
   "outputs": [],
   "source": []
  },
  {
   "cell_type": "code",
   "execution_count": 24,
   "metadata": {},
   "outputs": [
    {
     "data": {
      "text/plain": [
       "{'type': 'Feature',\n",
       " 'geometry': {'type': 'Point',\n",
       "  'coordinates': [-123.7275002778, 48.7347222222]},\n",
       " 'properties': {'directory': 'climate/ahccd/geojson/historical/monthly/BC/',\n",
       "  'period_directory': 'monthly',\n",
       "  'filename': 'AHCCD_hist_monthly_BC_1012573_RA_P1M.json',\n",
       "  'station_id': '1012573',\n",
       "  'year': '1926',\n",
       "  'period': 'Apr',\n",
       "  'units': 'mm',\n",
       "  'measure_type': 'rain',\n",
       "  'value': '56.2',\n",
       "  'lat': '48.7347222222222',\n",
       "  'lon': '-123.727500277778'}}"
      ]
     },
     "execution_count": 24,
     "metadata": {},
     "output_type": "execute_result"
    }
   ],
   "source": [
    "df.features[0]"
   ]
  },
  {
   "cell_type": "code",
   "execution_count": null,
   "metadata": {},
   "outputs": [],
   "source": []
  },
  {
   "cell_type": "code",
   "execution_count": null,
   "metadata": {},
   "outputs": [],
   "source": []
  },
  {
   "cell_type": "code",
   "execution_count": null,
   "metadata": {},
   "outputs": [],
   "source": []
  },
  {
   "cell_type": "code",
   "execution_count": 14,
   "metadata": {},
   "outputs": [
    {
     "name": "stdout",
     "output_type": "stream",
     "text": [
      "https://dd.weather.gc.ca/climate/ahccd/geojson/historical/monthly/BC/AHCCD_hist_monthly_BC_1012573_PCP_P1M.json\n",
      "https://dd.weather.gc.ca/climate/ahccd/geojson/historical/monthly/BC/AHCCD_hist_monthly_BC_1012573_RA_P1M.json\n",
      "https://dd.weather.gc.ca/climate/ahccd/geojson/historical/monthly/BC/AHCCD_hist_monthly_BC_1012573_SN_P1M.json\n"
     ]
    }
   ],
   "source": [
    "for file in dic_list:\n",
    "    print(file)"
   ]
  },
  {
   "cell_type": "code",
   "execution_count": 7,
   "metadata": {},
   "outputs": [
    {
     "data": {
      "text/plain": [
       "{'type': 'Feature',\n",
       " 'geometry': {'type': 'Point', 'coordinates': [-113.85, 53.28]},\n",
       " 'properties': {'directory': 'climate/ahccd/geojson/historical/annual/AB/',\n",
       "  'period_directory': 'annual',\n",
       "  'filename': 'AHCCD_hist_annual_AB_3011120_PCP_P1Y.json',\n",
       "  'station_id': '3011120',\n",
       "  'year': '1917',\n",
       "  'period': 'Ann',\n",
       "  'units': 'mm',\n",
       "  'measure_type': 'total_precip',\n",
       "  'value': '-9999.9',\n",
       "  'lat': '53.28',\n",
       "  'lon': '-113.85'}}"
      ]
     },
     "execution_count": 7,
     "metadata": {},
     "output_type": "execute_result"
    }
   ],
   "source": [
    "import pandas as pd\n",
    "\n"
   ]
  },
  {
   "cell_type": "code",
   "execution_count": 15,
   "metadata": {},
   "outputs": [],
   "source": [
    "import math\n",
    "def tone_gen(data,time_range):\n",
    "    \n",
    "    mean_data = sum(data)/len(data)\n",
    "    \n",
    "    std_data= 0\n",
    "    for x in data:\n",
    "        std_data+= (x-mean_data)**2\n",
    "    std_data = math.sqrt(std_data/len(data))\n",
    "    \n",
    "    tone = []\n",
    "\n",
    "    for x in data:\n",
    "        \n",
    "        tone.append(0.5*(1+math.erf((x-mean_data)/(math.sqrt(2)*std_data))))\n",
    "    \n",
    "    \n",
    "    \n",
    "    return mean_data, std_data, tone"
   ]
  },
  {
   "cell_type": "code",
   "execution_count": 4,
   "metadata": {},
   "outputs": [
    {
     "ename": "NameError",
     "evalue": "name 'tone_gen' is not defined",
     "output_type": "error",
     "traceback": [
      "\u001b[1;31m---------------------------------------------------------------------------\u001b[0m",
      "\u001b[1;31mNameError\u001b[0m                                 Traceback (most recent call last)",
      "\u001b[1;32m<ipython-input-4-99b3fcceef00>\u001b[0m in \u001b[0;36m<module>\u001b[1;34m\u001b[0m\n\u001b[0;32m     21\u001b[0m \u001b[1;32mfor\u001b[0m \u001b[0mcol\u001b[0m \u001b[1;32min\u001b[0m \u001b[0mlist\u001b[0m\u001b[1;33m(\u001b[0m\u001b[0mdf\u001b[0m\u001b[1;33m)\u001b[0m\u001b[1;33m:\u001b[0m\u001b[1;33m\u001b[0m\u001b[1;33m\u001b[0m\u001b[0m\n\u001b[0;32m     22\u001b[0m \u001b[1;33m\u001b[0m\u001b[0m\n\u001b[1;32m---> 23\u001b[1;33m     \u001b[0mhold_1\u001b[0m\u001b[1;33m,\u001b[0m\u001b[0mhold_2\u001b[0m\u001b[1;33m,\u001b[0m\u001b[0mhold_3\u001b[0m \u001b[1;33m=\u001b[0m \u001b[0mtone_gen\u001b[0m\u001b[1;33m(\u001b[0m\u001b[0mdf\u001b[0m\u001b[1;33m[\u001b[0m\u001b[0mcol\u001b[0m\u001b[1;33m]\u001b[0m\u001b[1;33m[\u001b[0m\u001b[1;33m~\u001b[0m\u001b[0mdf\u001b[0m\u001b[1;33m[\u001b[0m\u001b[0mcol\u001b[0m\u001b[1;33m]\u001b[0m\u001b[1;33m.\u001b[0m\u001b[0misnull\u001b[0m\u001b[1;33m(\u001b[0m\u001b[1;33m)\u001b[0m\u001b[1;33m]\u001b[0m\u001b[1;33m,\u001b[0m\u001b[0mdf\u001b[0m\u001b[1;33m[\u001b[0m\u001b[0mcol\u001b[0m\u001b[1;33m]\u001b[0m\u001b[1;33m[\u001b[0m\u001b[1;33m~\u001b[0m\u001b[0mdf\u001b[0m\u001b[1;33m[\u001b[0m\u001b[0mcol\u001b[0m\u001b[1;33m]\u001b[0m\u001b[1;33m.\u001b[0m\u001b[0misnull\u001b[0m\u001b[1;33m(\u001b[0m\u001b[1;33m)\u001b[0m\u001b[1;33m]\u001b[0m\u001b[1;33m.\u001b[0m\u001b[0mindex\u001b[0m\u001b[1;33m.\u001b[0m\u001b[0mvalues\u001b[0m\u001b[1;33m.\u001b[0m\u001b[0mtolist\u001b[0m\u001b[1;33m(\u001b[0m\u001b[1;33m)\u001b[0m\u001b[1;33m)\u001b[0m\u001b[1;33m\u001b[0m\u001b[1;33m\u001b[0m\u001b[0m\n\u001b[0m\u001b[0;32m     24\u001b[0m     \u001b[0mmean_value\u001b[0m\u001b[1;33m.\u001b[0m\u001b[0mappend\u001b[0m\u001b[1;33m(\u001b[0m\u001b[0mhold_1\u001b[0m\u001b[1;33m)\u001b[0m\u001b[1;33m\u001b[0m\u001b[1;33m\u001b[0m\u001b[0m\n\u001b[0;32m     25\u001b[0m     \u001b[0mstd_value\u001b[0m\u001b[1;33m.\u001b[0m\u001b[0mappend\u001b[0m\u001b[1;33m(\u001b[0m\u001b[0mhold_2\u001b[0m\u001b[1;33m)\u001b[0m\u001b[1;33m\u001b[0m\u001b[1;33m\u001b[0m\u001b[0m\n",
      "\u001b[1;31mNameError\u001b[0m: name 'tone_gen' is not defined"
     ]
    }
   ],
   "source": [
    "import glob\n",
    "import pandas as pd\n",
    "import numpy as np\n",
    "first = True\n",
    "\n",
    "for file in glob.glob('data\\*.csv'):\n",
    "    name = file.replace('.CSV','')\n",
    "    name = name.split('6')[-1]\n",
    "    if first:\n",
    "        df = pd.read_csv(file, index_col = 0, header = None, names = ['Year',name])\n",
    "        first = False\n",
    "    else:\n",
    "        df_new = pd.read_csv(file, index_col = 0, header = None, names = ['Year',name])\n",
    "        df = pd.concat([df,df_new],axis = 1, join_axes=[df.index])\n",
    "\n",
    "df = df.replace(-9999.9,np.nan)\n",
    "mean_value = []\n",
    "std_value = []\n",
    "\n",
    "\n",
    "for col in list(df):\n",
    "    \n",
    "    hold_1,hold_2,hold_3 = tone_gen(df[col][~df[col].isnull()],df[col][~df[col].isnull()].index.values.tolist())\n",
    "    mean_value.append(hold_1)\n",
    "    std_value.append(hold_2)\n",
    "    \n",
    "    s_new = pd.DataFrame(hold_3,index = df[col][~df[col].isnull()].index.values.tolist(),columns = [f'{col}_tone'])\n",
    "    df = pd.concat([df,s_new],axis=1)\n",
    "    "
   ]
  },
  {
   "cell_type": "code",
   "execution_count": 1,
   "metadata": {},
   "outputs": [],
   "source": [
    "import pandas as pd\n",
    "import numpy as np\n",
    "\n",
    "\n",
    "df = pd.read_csv(r'C:\\Users\\howle\\Documents\\MeteoHack\\data\\Monthly\\monthlyredlake6016975ra.csv', skiprows = 312,usecols  = [2],header = None, names = ['Month','Year','Rain'])\n",
    "\n",
    "df.head()\n",
    "\n",
    "\n",
    "df = df.replace(-9999.9,np.nan)\n",
    "\n",
    "df = df/(df.max())"
   ]
  },
  {
   "cell_type": "code",
   "execution_count": 2,
   "metadata": {},
   "outputs": [],
   "source": [
    "df_snow = pd.read_csv(r'C:\\Users\\howle\\Documents\\MeteoHack\\data\\Monthly\\monthlyredlake6016975sn.csv', skiprows = 312,usecols  = [2],header = None, names = ['Month','Year','Snow'])\n",
    "\n",
    "df_snow.head()\n",
    "\n",
    "\n",
    "df_snow = df_snow.replace(-9999.9,np.nan)\n",
    "\n",
    "df_snow = df_snow/(1.2*df_snow.max())\n"
   ]
  },
  {
   "cell_type": "code",
   "execution_count": 49,
   "metadata": {},
   "outputs": [
    {
     "ename": "InvalidIndexError",
     "evalue": "Reindexing only valid with uniquely valued Index objects",
     "output_type": "error",
     "traceback": [
      "\u001b[1;31m---------------------------------------------------------------------------\u001b[0m",
      "\u001b[1;31mInvalidIndexError\u001b[0m                         Traceback (most recent call last)",
      "\u001b[1;32m<ipython-input-49-84e4918e0055>\u001b[0m in \u001b[0;36m<module>\u001b[1;34m\u001b[0m\n\u001b[0;32m      2\u001b[0m \u001b[1;33m\u001b[0m\u001b[0m\n\u001b[0;32m      3\u001b[0m \u001b[0ms_new\u001b[0m \u001b[1;33m=\u001b[0m \u001b[0mpd\u001b[0m\u001b[1;33m.\u001b[0m\u001b[0mDataFrame\u001b[0m\u001b[1;33m(\u001b[0m\u001b[0mhold_3\u001b[0m\u001b[1;33m,\u001b[0m\u001b[0mindex\u001b[0m \u001b[1;33m=\u001b[0m \u001b[0mdf\u001b[0m\u001b[1;33m[\u001b[0m\u001b[1;34m'Rain'\u001b[0m\u001b[1;33m]\u001b[0m\u001b[1;33m[\u001b[0m\u001b[1;33m~\u001b[0m\u001b[0mdf\u001b[0m\u001b[1;33m[\u001b[0m\u001b[1;34m'Rain'\u001b[0m\u001b[1;33m]\u001b[0m\u001b[1;33m.\u001b[0m\u001b[0misnull\u001b[0m\u001b[1;33m(\u001b[0m\u001b[1;33m)\u001b[0m\u001b[1;33m]\u001b[0m\u001b[1;33m.\u001b[0m\u001b[0mindex\u001b[0m\u001b[1;33m.\u001b[0m\u001b[0mvalues\u001b[0m\u001b[1;33m.\u001b[0m\u001b[0mtolist\u001b[0m\u001b[1;33m(\u001b[0m\u001b[1;33m)\u001b[0m\u001b[1;33m,\u001b[0m\u001b[0mcolumns\u001b[0m \u001b[1;33m=\u001b[0m \u001b[1;33m[\u001b[0m\u001b[1;34mf'Rain_tone'\u001b[0m\u001b[1;33m]\u001b[0m\u001b[1;33m)\u001b[0m\u001b[1;33m\u001b[0m\u001b[1;33m\u001b[0m\u001b[0m\n\u001b[1;32m----> 4\u001b[1;33m \u001b[0mdf\u001b[0m \u001b[1;33m=\u001b[0m \u001b[0mpd\u001b[0m\u001b[1;33m.\u001b[0m\u001b[0mconcat\u001b[0m\u001b[1;33m(\u001b[0m\u001b[1;33m[\u001b[0m\u001b[0mdf\u001b[0m\u001b[1;33m,\u001b[0m\u001b[0ms_new\u001b[0m\u001b[1;33m]\u001b[0m\u001b[1;33m,\u001b[0m\u001b[0maxis\u001b[0m\u001b[1;33m=\u001b[0m\u001b[1;36m1\u001b[0m\u001b[1;33m)\u001b[0m\u001b[1;33m\u001b[0m\u001b[1;33m\u001b[0m\u001b[0m\n\u001b[0m",
      "\u001b[1;32m~\\AppData\\Local\\Continuum\\anaconda3\\envs\\MeteoHack\\lib\\site-packages\\pandas\\core\\reshape\\concat.py\u001b[0m in \u001b[0;36mconcat\u001b[1;34m(objs, axis, join, join_axes, ignore_index, keys, levels, names, verify_integrity, sort, copy)\u001b[0m\n\u001b[0;32m    226\u001b[0m                        \u001b[0mkeys\u001b[0m\u001b[1;33m=\u001b[0m\u001b[0mkeys\u001b[0m\u001b[1;33m,\u001b[0m \u001b[0mlevels\u001b[0m\u001b[1;33m=\u001b[0m\u001b[0mlevels\u001b[0m\u001b[1;33m,\u001b[0m \u001b[0mnames\u001b[0m\u001b[1;33m=\u001b[0m\u001b[0mnames\u001b[0m\u001b[1;33m,\u001b[0m\u001b[1;33m\u001b[0m\u001b[1;33m\u001b[0m\u001b[0m\n\u001b[0;32m    227\u001b[0m                        \u001b[0mverify_integrity\u001b[0m\u001b[1;33m=\u001b[0m\u001b[0mverify_integrity\u001b[0m\u001b[1;33m,\u001b[0m\u001b[1;33m\u001b[0m\u001b[1;33m\u001b[0m\u001b[0m\n\u001b[1;32m--> 228\u001b[1;33m                        copy=copy, sort=sort)\n\u001b[0m\u001b[0;32m    229\u001b[0m     \u001b[1;32mreturn\u001b[0m \u001b[0mop\u001b[0m\u001b[1;33m.\u001b[0m\u001b[0mget_result\u001b[0m\u001b[1;33m(\u001b[0m\u001b[1;33m)\u001b[0m\u001b[1;33m\u001b[0m\u001b[1;33m\u001b[0m\u001b[0m\n\u001b[0;32m    230\u001b[0m \u001b[1;33m\u001b[0m\u001b[0m\n",
      "\u001b[1;32m~\\AppData\\Local\\Continuum\\anaconda3\\envs\\MeteoHack\\lib\\site-packages\\pandas\\core\\reshape\\concat.py\u001b[0m in \u001b[0;36m__init__\u001b[1;34m(self, objs, axis, join, join_axes, keys, levels, names, ignore_index, verify_integrity, copy, sort)\u001b[0m\n\u001b[0;32m    379\u001b[0m         \u001b[0mself\u001b[0m\u001b[1;33m.\u001b[0m\u001b[0mcopy\u001b[0m \u001b[1;33m=\u001b[0m \u001b[0mcopy\u001b[0m\u001b[1;33m\u001b[0m\u001b[1;33m\u001b[0m\u001b[0m\n\u001b[0;32m    380\u001b[0m \u001b[1;33m\u001b[0m\u001b[0m\n\u001b[1;32m--> 381\u001b[1;33m         \u001b[0mself\u001b[0m\u001b[1;33m.\u001b[0m\u001b[0mnew_axes\u001b[0m \u001b[1;33m=\u001b[0m \u001b[0mself\u001b[0m\u001b[1;33m.\u001b[0m\u001b[0m_get_new_axes\u001b[0m\u001b[1;33m(\u001b[0m\u001b[1;33m)\u001b[0m\u001b[1;33m\u001b[0m\u001b[1;33m\u001b[0m\u001b[0m\n\u001b[0m\u001b[0;32m    382\u001b[0m \u001b[1;33m\u001b[0m\u001b[0m\n\u001b[0;32m    383\u001b[0m     \u001b[1;32mdef\u001b[0m \u001b[0mget_result\u001b[0m\u001b[1;33m(\u001b[0m\u001b[0mself\u001b[0m\u001b[1;33m)\u001b[0m\u001b[1;33m:\u001b[0m\u001b[1;33m\u001b[0m\u001b[1;33m\u001b[0m\u001b[0m\n",
      "\u001b[1;32m~\\AppData\\Local\\Continuum\\anaconda3\\envs\\MeteoHack\\lib\\site-packages\\pandas\\core\\reshape\\concat.py\u001b[0m in \u001b[0;36m_get_new_axes\u001b[1;34m(self)\u001b[0m\n\u001b[0;32m    446\u001b[0m                 \u001b[1;32mif\u001b[0m \u001b[0mi\u001b[0m \u001b[1;33m==\u001b[0m \u001b[0mself\u001b[0m\u001b[1;33m.\u001b[0m\u001b[0maxis\u001b[0m\u001b[1;33m:\u001b[0m\u001b[1;33m\u001b[0m\u001b[1;33m\u001b[0m\u001b[0m\n\u001b[0;32m    447\u001b[0m                     \u001b[1;32mcontinue\u001b[0m\u001b[1;33m\u001b[0m\u001b[1;33m\u001b[0m\u001b[0m\n\u001b[1;32m--> 448\u001b[1;33m                 \u001b[0mnew_axes\u001b[0m\u001b[1;33m[\u001b[0m\u001b[0mi\u001b[0m\u001b[1;33m]\u001b[0m \u001b[1;33m=\u001b[0m \u001b[0mself\u001b[0m\u001b[1;33m.\u001b[0m\u001b[0m_get_comb_axis\u001b[0m\u001b[1;33m(\u001b[0m\u001b[0mi\u001b[0m\u001b[1;33m)\u001b[0m\u001b[1;33m\u001b[0m\u001b[1;33m\u001b[0m\u001b[0m\n\u001b[0m\u001b[0;32m    449\u001b[0m         \u001b[1;32melse\u001b[0m\u001b[1;33m:\u001b[0m\u001b[1;33m\u001b[0m\u001b[1;33m\u001b[0m\u001b[0m\n\u001b[0;32m    450\u001b[0m             \u001b[1;32mif\u001b[0m \u001b[0mlen\u001b[0m\u001b[1;33m(\u001b[0m\u001b[0mself\u001b[0m\u001b[1;33m.\u001b[0m\u001b[0mjoin_axes\u001b[0m\u001b[1;33m)\u001b[0m \u001b[1;33m!=\u001b[0m \u001b[0mndim\u001b[0m \u001b[1;33m-\u001b[0m \u001b[1;36m1\u001b[0m\u001b[1;33m:\u001b[0m\u001b[1;33m\u001b[0m\u001b[1;33m\u001b[0m\u001b[0m\n",
      "\u001b[1;32m~\\AppData\\Local\\Continuum\\anaconda3\\envs\\MeteoHack\\lib\\site-packages\\pandas\\core\\reshape\\concat.py\u001b[0m in \u001b[0;36m_get_comb_axis\u001b[1;34m(self, i)\u001b[0m\n\u001b[0;32m    467\u001b[0m             return _get_objs_combined_axis(self.objs, axis=data_axis,\n\u001b[0;32m    468\u001b[0m                                            \u001b[0mintersect\u001b[0m\u001b[1;33m=\u001b[0m\u001b[0mself\u001b[0m\u001b[1;33m.\u001b[0m\u001b[0mintersect\u001b[0m\u001b[1;33m,\u001b[0m\u001b[1;33m\u001b[0m\u001b[1;33m\u001b[0m\u001b[0m\n\u001b[1;32m--> 469\u001b[1;33m                                            sort=self.sort)\n\u001b[0m\u001b[0;32m    470\u001b[0m         \u001b[1;32mexcept\u001b[0m \u001b[0mIndexError\u001b[0m\u001b[1;33m:\u001b[0m\u001b[1;33m\u001b[0m\u001b[1;33m\u001b[0m\u001b[0m\n\u001b[0;32m    471\u001b[0m             \u001b[0mtypes\u001b[0m \u001b[1;33m=\u001b[0m \u001b[1;33m[\u001b[0m\u001b[0mtype\u001b[0m\u001b[1;33m(\u001b[0m\u001b[0mx\u001b[0m\u001b[1;33m)\u001b[0m\u001b[1;33m.\u001b[0m\u001b[0m__name__\u001b[0m \u001b[1;32mfor\u001b[0m \u001b[0mx\u001b[0m \u001b[1;32min\u001b[0m \u001b[0mself\u001b[0m\u001b[1;33m.\u001b[0m\u001b[0mobjs\u001b[0m\u001b[1;33m]\u001b[0m\u001b[1;33m\u001b[0m\u001b[1;33m\u001b[0m\u001b[0m\n",
      "\u001b[1;32m~\\AppData\\Local\\Continuum\\anaconda3\\envs\\MeteoHack\\lib\\site-packages\\pandas\\core\\indexes\\api.py\u001b[0m in \u001b[0;36m_get_objs_combined_axis\u001b[1;34m(objs, intersect, axis, sort)\u001b[0m\n\u001b[0;32m     68\u001b[0m                  if hasattr(obj, '_get_axis')]\n\u001b[0;32m     69\u001b[0m     \u001b[1;32mif\u001b[0m \u001b[0mobs_idxes\u001b[0m\u001b[1;33m:\u001b[0m\u001b[1;33m\u001b[0m\u001b[1;33m\u001b[0m\u001b[0m\n\u001b[1;32m---> 70\u001b[1;33m         \u001b[1;32mreturn\u001b[0m \u001b[0m_get_combined_index\u001b[0m\u001b[1;33m(\u001b[0m\u001b[0mobs_idxes\u001b[0m\u001b[1;33m,\u001b[0m \u001b[0mintersect\u001b[0m\u001b[1;33m=\u001b[0m\u001b[0mintersect\u001b[0m\u001b[1;33m,\u001b[0m \u001b[0msort\u001b[0m\u001b[1;33m=\u001b[0m\u001b[0msort\u001b[0m\u001b[1;33m)\u001b[0m\u001b[1;33m\u001b[0m\u001b[1;33m\u001b[0m\u001b[0m\n\u001b[0m\u001b[0;32m     71\u001b[0m \u001b[1;33m\u001b[0m\u001b[0m\n\u001b[0;32m     72\u001b[0m \u001b[1;33m\u001b[0m\u001b[0m\n",
      "\u001b[1;32m~\\AppData\\Local\\Continuum\\anaconda3\\envs\\MeteoHack\\lib\\site-packages\\pandas\\core\\indexes\\api.py\u001b[0m in \u001b[0;36m_get_combined_index\u001b[1;34m(indexes, intersect, sort)\u001b[0m\n\u001b[0;32m    115\u001b[0m             \u001b[0mindex\u001b[0m \u001b[1;33m=\u001b[0m \u001b[0mindex\u001b[0m\u001b[1;33m.\u001b[0m\u001b[0mintersection\u001b[0m\u001b[1;33m(\u001b[0m\u001b[0mother\u001b[0m\u001b[1;33m)\u001b[0m\u001b[1;33m\u001b[0m\u001b[1;33m\u001b[0m\u001b[0m\n\u001b[0;32m    116\u001b[0m     \u001b[1;32melse\u001b[0m\u001b[1;33m:\u001b[0m\u001b[1;33m\u001b[0m\u001b[1;33m\u001b[0m\u001b[0m\n\u001b[1;32m--> 117\u001b[1;33m         \u001b[0mindex\u001b[0m \u001b[1;33m=\u001b[0m \u001b[0m_union_indexes\u001b[0m\u001b[1;33m(\u001b[0m\u001b[0mindexes\u001b[0m\u001b[1;33m,\u001b[0m \u001b[0msort\u001b[0m\u001b[1;33m=\u001b[0m\u001b[0msort\u001b[0m\u001b[1;33m)\u001b[0m\u001b[1;33m\u001b[0m\u001b[1;33m\u001b[0m\u001b[0m\n\u001b[0m\u001b[0;32m    118\u001b[0m         \u001b[0mindex\u001b[0m \u001b[1;33m=\u001b[0m \u001b[0mensure_index\u001b[0m\u001b[1;33m(\u001b[0m\u001b[0mindex\u001b[0m\u001b[1;33m)\u001b[0m\u001b[1;33m\u001b[0m\u001b[1;33m\u001b[0m\u001b[0m\n\u001b[0;32m    119\u001b[0m \u001b[1;33m\u001b[0m\u001b[0m\n",
      "\u001b[1;32m~\\AppData\\Local\\Continuum\\anaconda3\\envs\\MeteoHack\\lib\\site-packages\\pandas\\core\\indexes\\api.py\u001b[0m in \u001b[0;36m_union_indexes\u001b[1;34m(indexes, sort)\u001b[0m\n\u001b[0;32m    181\u001b[0m         \u001b[1;32melse\u001b[0m\u001b[1;33m:\u001b[0m\u001b[1;33m\u001b[0m\u001b[1;33m\u001b[0m\u001b[0m\n\u001b[0;32m    182\u001b[0m             \u001b[1;32mfor\u001b[0m \u001b[0mother\u001b[0m \u001b[1;32min\u001b[0m \u001b[0mindexes\u001b[0m\u001b[1;33m[\u001b[0m\u001b[1;36m1\u001b[0m\u001b[1;33m:\u001b[0m\u001b[1;33m]\u001b[0m\u001b[1;33m:\u001b[0m\u001b[1;33m\u001b[0m\u001b[1;33m\u001b[0m\u001b[0m\n\u001b[1;32m--> 183\u001b[1;33m                 \u001b[0mresult\u001b[0m \u001b[1;33m=\u001b[0m \u001b[0mresult\u001b[0m\u001b[1;33m.\u001b[0m\u001b[0munion\u001b[0m\u001b[1;33m(\u001b[0m\u001b[0mother\u001b[0m\u001b[1;33m)\u001b[0m\u001b[1;33m\u001b[0m\u001b[1;33m\u001b[0m\u001b[0m\n\u001b[0m\u001b[0;32m    184\u001b[0m             \u001b[1;32mreturn\u001b[0m \u001b[0mresult\u001b[0m\u001b[1;33m\u001b[0m\u001b[1;33m\u001b[0m\u001b[0m\n\u001b[0;32m    185\u001b[0m     \u001b[1;32melif\u001b[0m \u001b[0mkind\u001b[0m \u001b[1;33m==\u001b[0m \u001b[1;34m'array'\u001b[0m\u001b[1;33m:\u001b[0m\u001b[1;33m\u001b[0m\u001b[1;33m\u001b[0m\u001b[0m\n",
      "\u001b[1;32m~\\AppData\\Local\\Continuum\\anaconda3\\envs\\MeteoHack\\lib\\site-packages\\pandas\\core\\indexes\\base.py\u001b[0m in \u001b[0;36munion\u001b[1;34m(self, other, sort)\u001b[0m\n\u001b[0;32m   2330\u001b[0m                 \u001b[0mresult\u001b[0m\u001b[1;33m.\u001b[0m\u001b[0mextend\u001b[0m\u001b[1;33m(\u001b[0m\u001b[1;33m[\u001b[0m\u001b[0mx\u001b[0m \u001b[1;32mfor\u001b[0m \u001b[0mx\u001b[0m \u001b[1;32min\u001b[0m \u001b[0mrvals\u001b[0m \u001b[1;32mif\u001b[0m \u001b[0mx\u001b[0m \u001b[1;32mnot\u001b[0m \u001b[1;32min\u001b[0m \u001b[0mvalue_set\u001b[0m\u001b[1;33m]\u001b[0m\u001b[1;33m)\u001b[0m\u001b[1;33m\u001b[0m\u001b[1;33m\u001b[0m\u001b[0m\n\u001b[0;32m   2331\u001b[0m         \u001b[1;32melse\u001b[0m\u001b[1;33m:\u001b[0m\u001b[1;33m\u001b[0m\u001b[1;33m\u001b[0m\u001b[0m\n\u001b[1;32m-> 2332\u001b[1;33m             \u001b[0mindexer\u001b[0m \u001b[1;33m=\u001b[0m \u001b[0mself\u001b[0m\u001b[1;33m.\u001b[0m\u001b[0mget_indexer\u001b[0m\u001b[1;33m(\u001b[0m\u001b[0mother\u001b[0m\u001b[1;33m)\u001b[0m\u001b[1;33m\u001b[0m\u001b[1;33m\u001b[0m\u001b[0m\n\u001b[0m\u001b[0;32m   2333\u001b[0m             \u001b[0mindexer\u001b[0m\u001b[1;33m,\u001b[0m \u001b[1;33m=\u001b[0m \u001b[1;33m(\u001b[0m\u001b[0mindexer\u001b[0m \u001b[1;33m==\u001b[0m \u001b[1;33m-\u001b[0m\u001b[1;36m1\u001b[0m\u001b[1;33m)\u001b[0m\u001b[1;33m.\u001b[0m\u001b[0mnonzero\u001b[0m\u001b[1;33m(\u001b[0m\u001b[1;33m)\u001b[0m\u001b[1;33m\u001b[0m\u001b[1;33m\u001b[0m\u001b[0m\n\u001b[0;32m   2334\u001b[0m \u001b[1;33m\u001b[0m\u001b[0m\n",
      "\u001b[1;32m~\\AppData\\Local\\Continuum\\anaconda3\\envs\\MeteoHack\\lib\\site-packages\\pandas\\core\\indexes\\base.py\u001b[0m in \u001b[0;36mget_indexer\u001b[1;34m(self, target, method, limit, tolerance)\u001b[0m\n\u001b[0;32m   2738\u001b[0m \u001b[1;33m\u001b[0m\u001b[0m\n\u001b[0;32m   2739\u001b[0m         \u001b[1;32mif\u001b[0m \u001b[1;32mnot\u001b[0m \u001b[0mself\u001b[0m\u001b[1;33m.\u001b[0m\u001b[0mis_unique\u001b[0m\u001b[1;33m:\u001b[0m\u001b[1;33m\u001b[0m\u001b[1;33m\u001b[0m\u001b[0m\n\u001b[1;32m-> 2740\u001b[1;33m             raise InvalidIndexError('Reindexing only valid with uniquely'\n\u001b[0m\u001b[0;32m   2741\u001b[0m                                     ' valued Index objects')\n\u001b[0;32m   2742\u001b[0m \u001b[1;33m\u001b[0m\u001b[0m\n",
      "\u001b[1;31mInvalidIndexError\u001b[0m: Reindexing only valid with uniquely valued Index objects"
     ]
    }
   ],
   "source": [
    "mean_mon, std_mon, hold_3 = tone_gen(df['Rain'][~df['Rain'].isnull()],df['Rain'][~df['Rain'].isnull()].index.values.tolist())\n",
    "\n",
    "s_new = pd.DataFrame(hold_3,index = df['Rain'][~df['Rain'].isnull()].index.values.tolist(),columns = [f'Rain_tone'])\n",
    "df = pd.concat([df,s_new],axis=1)"
   ]
  },
  {
   "cell_type": "code",
   "execution_count": 34,
   "metadata": {},
   "outputs": [
    {
     "data": {
      "text/plain": [
       "0.30491484048594775"
      ]
     },
     "execution_count": 34,
     "metadata": {},
     "output_type": "execute_result"
    }
   ],
   "source": [
    "float(df['pcp_tone'].values[0])"
   ]
  },
  {
   "cell_type": "code",
   "execution_count": 22,
   "metadata": {},
   "outputs": [
    {
     "data": {
      "text/html": [
       "<div>\n",
       "<style scoped>\n",
       "    .dataframe tbody tr th:only-of-type {\n",
       "        vertical-align: middle;\n",
       "    }\n",
       "\n",
       "    .dataframe tbody tr th {\n",
       "        vertical-align: top;\n",
       "    }\n",
       "\n",
       "    .dataframe thead th {\n",
       "        text-align: right;\n",
       "    }\n",
       "</style>\n",
       "<table border=\"1\" class=\"dataframe\">\n",
       "  <thead>\n",
       "    <tr style=\"text-align: right;\">\n",
       "      <th></th>\n",
       "      <th>pcp</th>\n",
       "      <th>ra</th>\n",
       "      <th>sn</th>\n",
       "      <th>tmax</th>\n",
       "      <th>tmean</th>\n",
       "      <th>tmin</th>\n",
       "    </tr>\n",
       "    <tr>\n",
       "      <th>Year</th>\n",
       "      <th></th>\n",
       "      <th></th>\n",
       "      <th></th>\n",
       "      <th></th>\n",
       "      <th></th>\n",
       "      <th></th>\n",
       "    </tr>\n",
       "  </thead>\n",
       "  <tbody>\n",
       "    <tr>\n",
       "      <th>1891</th>\n",
       "      <td>935.2</td>\n",
       "      <td>693.8</td>\n",
       "      <td>241.5</td>\n",
       "      <td>-9999.9</td>\n",
       "      <td>-9999.9</td>\n",
       "      <td>NaN</td>\n",
       "    </tr>\n",
       "    <tr>\n",
       "      <th>1892</th>\n",
       "      <td>1077.9</td>\n",
       "      <td>832.0</td>\n",
       "      <td>245.9</td>\n",
       "      <td>10.0</td>\n",
       "      <td>4.7</td>\n",
       "      <td>-0.6</td>\n",
       "    </tr>\n",
       "    <tr>\n",
       "      <th>1893</th>\n",
       "      <td>995.3</td>\n",
       "      <td>636.7</td>\n",
       "      <td>358.6</td>\n",
       "      <td>11.6</td>\n",
       "      <td>6.1</td>\n",
       "      <td>0.7</td>\n",
       "    </tr>\n",
       "    <tr>\n",
       "      <th>1894</th>\n",
       "      <td>1275.5</td>\n",
       "      <td>903.3</td>\n",
       "      <td>372.2</td>\n",
       "      <td>10.2</td>\n",
       "      <td>5.1</td>\n",
       "      <td>0.0</td>\n",
       "    </tr>\n",
       "    <tr>\n",
       "      <th>1895</th>\n",
       "      <td>884.5</td>\n",
       "      <td>652.3</td>\n",
       "      <td>232.1</td>\n",
       "      <td>9.7</td>\n",
       "      <td>4.3</td>\n",
       "      <td>-1.1</td>\n",
       "    </tr>\n",
       "  </tbody>\n",
       "</table>\n",
       "</div>"
      ],
      "text/plain": [
       "         pcp     ra     sn    tmax   tmean  tmin\n",
       "Year                                            \n",
       "1891   935.2  693.8  241.5 -9999.9 -9999.9   NaN\n",
       "1892  1077.9  832.0  245.9    10.0     4.7  -0.6\n",
       "1893   995.3  636.7  358.6    11.6     6.1   0.7\n",
       "1894  1275.5  903.3  372.2    10.2     5.1   0.0\n",
       "1895   884.5  652.3  232.1     9.7     4.3  -1.1"
      ]
     },
     "execution_count": 22,
     "metadata": {},
     "output_type": "execute_result"
    }
   ],
   "source": [
    "df.head()"
   ]
  },
  {
   "cell_type": "code",
   "execution_count": null,
   "metadata": {},
   "outputs": [],
   "source": []
  },
  {
   "cell_type": "markdown",
   "metadata": {},
   "source": [
    "# Sound Generation"
   ]
  },
  {
   "cell_type": "code",
   "execution_count": null,
   "metadata": {},
   "outputs": [],
   "source": [
    "pcp generation"
   ]
  },
  {
   "cell_type": "code",
   "execution_count": 236,
   "metadata": {},
   "outputs": [],
   "source": [
    "from pyo import *\n",
    "\n",
    "s = Server().boot().start()\n",
    "snds3 = ['snds/alum1.wav', 'snds/alum2.wav',\n",
    "        'snds/alum3.wav', 'snds/alum4.wav']\n",
    "\n",
    "\n",
    "\n",
    "wav = SquareTable()\n",
    "beat = Metro(time=0.8, poly=4).play()\n",
    "tabs = SndTable(snds3)\n",
    "t = CosTable([(0,0), (100,1), (2000,.3), (8191,0)])\n",
    "amp = TrigEnv(beat, table=tabs, dur=.25, mul=.3)\n",
    "pitch = TrigXnoiseMidi(beat,dist = 2,mrange = (24,24))\n",
    "\n",
    "a = Osc(table=wav,freq= pitch ,mul = amp).out()\n",
    "\n",
    "    \n"
   ]
  },
  {
   "cell_type": "code",
   "execution_count": 164,
   "metadata": {},
   "outputs": [
    {
     "ename": "KeyboardInterrupt",
     "evalue": "",
     "output_type": "error",
     "traceback": [
      "\u001b[1;31m---------------------------------------------------------------------------\u001b[0m",
      "\u001b[1;31mKeyboardInterrupt\u001b[0m                         Traceback (most recent call last)",
      "\u001b[1;32m<ipython-input-164-a8baef8790e7>\u001b[0m in \u001b[0;36m<module>\u001b[1;34m\u001b[0m\n\u001b[0;32m     16\u001b[0m \u001b[0mx\u001b[0m \u001b[1;33m=\u001b[0m \u001b[1;36m1\u001b[0m\u001b[1;33m\u001b[0m\u001b[1;33m\u001b[0m\u001b[0m\n\u001b[0;32m     17\u001b[0m \u001b[1;32mwhile\u001b[0m \u001b[0mx\u001b[0m\u001b[1;33m<\u001b[0m\u001b[1;36m10\u001b[0m\u001b[1;33m:\u001b[0m\u001b[1;33m\u001b[0m\u001b[1;33m\u001b[0m\u001b[0m\n\u001b[1;32m---> 18\u001b[1;33m     \u001b[0ma\u001b[0m \u001b[1;33m=\u001b[0m \u001b[0mOsc\u001b[0m\u001b[1;33m(\u001b[0m\u001b[0mtable\u001b[0m\u001b[1;33m=\u001b[0m\u001b[0mwav\u001b[0m\u001b[1;33m,\u001b[0m\u001b[0mfreq\u001b[0m\u001b[1;33m=\u001b[0m \u001b[0mx\u001b[0m \u001b[1;33m,\u001b[0m\u001b[0mmul\u001b[0m \u001b[1;33m=\u001b[0m \u001b[0mamp\u001b[0m\u001b[1;33m)\u001b[0m\u001b[1;33m.\u001b[0m\u001b[0mout\u001b[0m\u001b[1;33m(\u001b[0m\u001b[1;33m)\u001b[0m\u001b[1;33m\u001b[0m\u001b[1;33m\u001b[0m\u001b[0m\n\u001b[0m\u001b[0;32m     19\u001b[0m \u001b[1;33m\u001b[0m\u001b[0m\n\u001b[0;32m     20\u001b[0m \u001b[1;33m\u001b[0m\u001b[0m\n",
      "\u001b[1;32m~\\AppData\\Local\\Continuum\\anaconda3\\envs\\MeteoHack\\lib\\site-packages\\pyo\\lib\\tableprocess.py\u001b[0m in \u001b[0;36m__init__\u001b[1;34m(self, table, freq, phase, interp, mul, add)\u001b[0m\n\u001b[0;32m     63\u001b[0m     \"\"\"\n\u001b[0;32m     64\u001b[0m     \u001b[1;32mdef\u001b[0m \u001b[0m__init__\u001b[0m\u001b[1;33m(\u001b[0m\u001b[0mself\u001b[0m\u001b[1;33m,\u001b[0m \u001b[0mtable\u001b[0m\u001b[1;33m,\u001b[0m \u001b[0mfreq\u001b[0m\u001b[1;33m=\u001b[0m\u001b[1;36m1000\u001b[0m\u001b[1;33m,\u001b[0m \u001b[0mphase\u001b[0m\u001b[1;33m=\u001b[0m\u001b[1;36m0\u001b[0m\u001b[1;33m,\u001b[0m \u001b[0minterp\u001b[0m\u001b[1;33m=\u001b[0m\u001b[1;36m2\u001b[0m\u001b[1;33m,\u001b[0m \u001b[0mmul\u001b[0m\u001b[1;33m=\u001b[0m\u001b[1;36m1\u001b[0m\u001b[1;33m,\u001b[0m \u001b[0madd\u001b[0m\u001b[1;33m=\u001b[0m\u001b[1;36m0\u001b[0m\u001b[1;33m)\u001b[0m\u001b[1;33m:\u001b[0m\u001b[1;33m\u001b[0m\u001b[1;33m\u001b[0m\u001b[0m\n\u001b[1;32m---> 65\u001b[1;33m         \u001b[0mpyoArgsAssert\u001b[0m\u001b[1;33m(\u001b[0m\u001b[0mself\u001b[0m\u001b[1;33m,\u001b[0m \u001b[1;34m\"tOOiOO\"\u001b[0m\u001b[1;33m,\u001b[0m \u001b[0mtable\u001b[0m\u001b[1;33m,\u001b[0m \u001b[0mfreq\u001b[0m\u001b[1;33m,\u001b[0m \u001b[0mphase\u001b[0m\u001b[1;33m,\u001b[0m \u001b[0minterp\u001b[0m\u001b[1;33m,\u001b[0m \u001b[0mmul\u001b[0m\u001b[1;33m,\u001b[0m \u001b[0madd\u001b[0m\u001b[1;33m)\u001b[0m\u001b[1;33m\u001b[0m\u001b[1;33m\u001b[0m\u001b[0m\n\u001b[0m\u001b[0;32m     66\u001b[0m         \u001b[0mPyoObject\u001b[0m\u001b[1;33m.\u001b[0m\u001b[0m__init__\u001b[0m\u001b[1;33m(\u001b[0m\u001b[0mself\u001b[0m\u001b[1;33m,\u001b[0m \u001b[0mmul\u001b[0m\u001b[1;33m,\u001b[0m \u001b[0madd\u001b[0m\u001b[1;33m)\u001b[0m\u001b[1;33m\u001b[0m\u001b[1;33m\u001b[0m\u001b[0m\n\u001b[0;32m     67\u001b[0m         \u001b[0mself\u001b[0m\u001b[1;33m.\u001b[0m\u001b[0m_table\u001b[0m \u001b[1;33m=\u001b[0m \u001b[0mtable\u001b[0m\u001b[1;33m\u001b[0m\u001b[1;33m\u001b[0m\u001b[0m\n",
      "\u001b[1;32m~\\AppData\\Local\\Continuum\\anaconda3\\envs\\MeteoHack\\lib\\site-packages\\pyo\\lib\\_core.py\u001b[0m in \u001b[0;36mpyoArgsAssert\u001b[1;34m(obj, format, *args)\u001b[0m\n\u001b[0;32m    456\u001b[0m             \u001b[1;32mif\u001b[0m \u001b[0margtype\u001b[0m \u001b[1;32mnot\u001b[0m \u001b[1;32min\u001b[0m \u001b[1;33m[\u001b[0m\u001b[0mfloat\u001b[0m\u001b[1;33m]\u001b[0m\u001b[1;33m:\u001b[0m\u001b[1;33m\u001b[0m\u001b[1;33m\u001b[0m\u001b[0m\n\u001b[0;32m    457\u001b[0m                 \u001b[0mexpected\u001b[0m \u001b[1;33m=\u001b[0m \u001b[1;34m\"float - list not allowed\"\u001b[0m\u001b[1;33m\u001b[0m\u001b[1;33m\u001b[0m\u001b[0m\n\u001b[1;32m--> 458\u001b[1;33m         \u001b[1;32melif\u001b[0m \u001b[0mf\u001b[0m \u001b[1;33m==\u001b[0m \u001b[1;34m\"i\"\u001b[0m\u001b[1;33m:\u001b[0m\u001b[1;33m\u001b[0m\u001b[1;33m\u001b[0m\u001b[0m\n\u001b[0m\u001b[0;32m    459\u001b[0m             \u001b[1;32mif\u001b[0m \u001b[0margtype\u001b[0m \u001b[1;32mnot\u001b[0m \u001b[1;32min\u001b[0m \u001b[1;33m[\u001b[0m\u001b[0mlist\u001b[0m\u001b[1;33m,\u001b[0m \u001b[0mint\u001b[0m\u001b[1;33m,\u001b[0m \u001b[0mlongType\u001b[0m\u001b[1;33m]\u001b[0m\u001b[1;33m:\u001b[0m\u001b[1;33m\u001b[0m\u001b[1;33m\u001b[0m\u001b[0m\n\u001b[0;32m    460\u001b[0m                 \u001b[0mexpected\u001b[0m \u001b[1;33m=\u001b[0m \u001b[1;34m\"integer\"\u001b[0m\u001b[1;33m\u001b[0m\u001b[1;33m\u001b[0m\u001b[0m\n",
      "\u001b[1;31mKeyboardInterrupt\u001b[0m: "
     ]
    }
   ],
   "source": []
  },
  {
   "cell_type": "code",
   "execution_count": 213,
   "metadata": {},
   "outputs": [],
   "source": [
    "from pyo import *\n",
    "import time\n",
    "s = Server().boot().start()\n",
    "snds3 = ['snds/alum1.wav', 'snds/alum2.wav',\n",
    "        'snds/alum3.wav', 'snds/alum4.wav']\n",
    "\n",
    "tabs = SndTable(snds3)\n",
    "\n",
    "beat = Metro(time=(1-0.5), poly=3).play()\n",
    "wav = SquareTable()\n",
    "t = CosTable([(0,0), (100,1), (2000,.3), (8191,0)])\n",
    "amp = TrigEnv(beat, table=tabs, dur=.25, mul=.3)\n",
    "pitch = TrigXnoiseMidi(beat,dist = 4,mrange = (48,48))\n",
    "\n",
    "\n",
    "a = Osc(table=wav,freq= pitch ,mul = amp).out()\n",
    "\n",
    "def hello(arg):\n",
    "    print('hello')\n",
    "\n",
    "\n",
    "def pcp_temp(value):\n",
    "    print(value)\n",
    "    if x != np.nan:\n",
    "        value = x\n",
    "    else:\n",
    "        value = 0.5\n",
    "    snds3 = ['snds/alum1.wav', 'snds/alum2.wav',\n",
    "        'snds/alum3.wav', 'snds/alum4.wav']\n",
    "    tabs = SndTable(snds3)\n",
    "\n",
    "    beat = Metro(time=(1-value), poly=3).play()\n",
    "    wav = SquareTable()\n",
    "    t = CosTable([(0,0), (100,1), (2000,.3), (8191,0)])\n",
    "    amp = TrigEnv(beat, table=tabs, dur=.25, mul=.3)\n",
    "    pitch = TrigXnoiseMidi(beat,dist = 4,mrange = (48,48))\n",
    "\n",
    "    a.table = wav\n",
    "    a.freq = pitch\n",
    "    a.mul = amp\n",
    "\n",
    "\n",
    "\n",
    "p =Pattern(function =pcp_temp,arg = xx).play()\n",
    "\n"
   ]
  },
  {
   "cell_type": "code",
   "execution_count": null,
   "metadata": {},
   "outputs": [],
   "source": [
    "from pyo import *\n",
    "import time\n",
    "import numpy as np\n",
    "\n",
    "num = 0\n",
    "\n",
    "\n",
    "s = Server().boot().start()\n",
    "snds3 = ['snds/alum1.wav', 'snds/alum2.wav',\n",
    "        'snds/alum3.wav', 'snds/alum4.wav']\n",
    "\n",
    "tabs = SndTable(snds3)\n",
    "'''\n",
    "beat = Metro(time=0.5, poly=3).play()\n",
    "wav = SquareTable()\n",
    "t = CosTable([(0,0), (100,1), (2000,.3), (8191,0)])\n",
    "amp = TrigEnv(beat, table=tabs, dur=.25, mul=.3)\n",
    "pitch = TrigXnoiseMidi(beat,dist = 4,mrange = (48,48))\n",
    "\n",
    "\n",
    "\n",
    "a = Osc(table=wav,freq= pitch ,mul = amp).out()\n",
    "'''\n",
    "\n",
    "tabs = SndTable(snds3)\n",
    "\n",
    "beat_snow = Metro(time=0.5, poly=3).play()\n",
    "wav_snow = SquareTable()\n",
    "t_snow = CosTable([(0,0), (100,1), (2000,.3), (8191,0)])\n",
    "amp_snow = TrigEnv(beat_snow, table=tabs, dur=.25, mul=.1)\n",
    "pitch_snow = TrigXnoiseMidi(beat_snow,dist = 4,mrange = (100,100))\n",
    "\n",
    "\n",
    "\n",
    "a_snow = Osc(table=wav_snow,freq= pitch_snow ,mul = amp_snow).out()\n",
    "\n",
    "\n",
    "\n",
    "def pcp_temp():\n",
    "    \n",
    "    global num\n",
    "    '''\n",
    "    x = df['Rain'].values[num]\n",
    "\n",
    "    if x != np.nan:\n",
    "        value = x\n",
    "    else:\n",
    "        value = 0.5\n",
    "    print(1-value)\n",
    "    snds3 = ['snds/alum1.wav', 'snds/alum2.wav',\n",
    "        'snds/alum3.wav', 'snds/alum4.wav']\n",
    "    tabs = SndTable(snds3)\n",
    "\n",
    "\n",
    "    beat = Metro(time=float(1-value), poly=3).play()\n",
    "    wav = SquareTable()\n",
    "    t = CosTable([(0,0), (100,1), (2000,.3), (8191,0)])\n",
    "    amp = TrigEnv(beat, table=tabs, dur=.25, mul=.3)\n",
    "    pitch = TrigXnoiseMidi(beat,dist = 4,mrange = (48,48))\n",
    "\n",
    "    a.table = wav\n",
    "    a.freq = pitch\n",
    "    a.mul = amp\n",
    "    '''\n",
    "    \n",
    "    x_snow = df_snow['Snow'].values[num]\n",
    "\n",
    "    if x_snow != np.nan:\n",
    "        value_snow = x_snow\n",
    "    else:\n",
    "        value_snow = 0.5\n",
    "    print(1-value_snow)\n",
    "    snds3 = ['snds/alum1.wav', 'snds/alum2.wav',\n",
    "        'snds/alum3.wav', 'snds/alum4.wav']\n",
    "    tabs = SndTable(snds3)\n",
    "\n",
    "    beat_snow = Metro(time=float(1-value_snow), poly=1).play()\n",
    "    wav_snow = SquareTable()\n",
    "    t_snow = CosTable([(0,0), (100,1), (2000,.3), (8191,0)])\n",
    "    amp_snow = TrigEnv(beat_snow, table=tabs, dur=.25, mul=.1)\n",
    "    pitch_snow = TrigXnoiseMidi(beat_snow,dist = 1,mrange = (1000,1000))\n",
    "\n",
    "    a_snow.table = wav_snow\n",
    "    a_snow.freq = pitch_snow\n",
    "    a_snow.mul = amp_snow*10\n",
    "    \n",
    "    \n",
    "    num+=1\n",
    "\n",
    "\n",
    "p =Pattern(pcp_temp,2).play()\n"
   ]
  },
  {
   "cell_type": "code",
   "execution_count": 91,
   "metadata": {},
   "outputs": [
    {
     "data": {
      "text/plain": [
       "<pyo.lib.server.Server at 0x13a91bce080>"
      ]
     },
     "execution_count": 91,
     "metadata": {},
     "output_type": "execute_result"
    }
   ],
   "source": [
    "s.start()"
   ]
  },
  {
   "cell_type": "code",
   "execution_count": 88,
   "metadata": {},
   "outputs": [],
   "source": [
    "s.stop()\n"
   ]
  },
  {
   "cell_type": "code",
   "execution_count": 60,
   "metadata": {},
   "outputs": [
    {
     "data": {
      "text/plain": [
       "< Instance of Osc class >"
      ]
     },
     "execution_count": 60,
     "metadata": {},
     "output_type": "execute_result"
    }
   ],
   "source": [
    "df_snow"
   ]
  },
  {
   "cell_type": "code",
   "execution_count": 5,
   "metadata": {},
   "outputs": [
    {
     "data": {
      "text/plain": [
       "< Instance of Pattern class >"
      ]
     },
     "execution_count": 5,
     "metadata": {},
     "output_type": "execute_result"
    }
   ],
   "source": [
    "from pyo import *\n",
    "import random\n",
    "s = Server().boot()\n",
    "s.start()\n",
    "t = HarmTable([1,0,.33,0,.2,0,.143,0,.111])\n",
    "a = Osc(table=t, freq=[250,251], mul=.2).out()\n",
    "def pat():\n",
    "    \n",
    "    f = random.randrange(200, 401, 25)\n",
    "    print(f)\n",
    "    a.freq = [f, f+1]\n",
    "p = Pattern(pat, .125)\n",
    "p.play()\n",
    "#s.gui(locals())"
   ]
  },
  {
   "cell_type": "code",
   "execution_count": 3,
   "metadata": {},
   "outputs": [
    {
     "data": {
      "text/plain": [
       "<pyo.lib.server.Server at 0x24f47127438>"
      ]
     },
     "execution_count": 3,
     "metadata": {},
     "output_type": "execute_result"
    }
   ],
   "source": [
    "s.start()"
   ]
  },
  {
   "cell_type": "code",
   "execution_count": 214,
   "metadata": {},
   "outputs": [],
   "source": []
  },
  {
   "cell_type": "code",
   "execution_count": null,
   "metadata": {},
   "outputs": [],
   "source": []
  },
  {
   "cell_type": "code",
   "execution_count": 1,
   "metadata": {},
   "outputs": [],
   "source": [
    "from pyo import *\n",
    "import random\n",
    "\n",
    "s = Server().boot()\n",
    "\n",
    "# Sound bank\n",
    "folder = \"snds/\"\n",
    "sounds = [\"alum1.wav\", \"alum2.wav\", \"alum3.wav\", \"alum4.wav\"]\n",
    "\n",
    "# Creates the left and right players\n",
    "sfL = SfPlayer(folder+sounds[0], speed=1, mul=0.5).out()\n",
    "sfR = SfPlayer(folder+sounds[0], speed=1, mul=0.5).out(1)\n",
    "\n",
    "# Function to choose a new sound and a new speed for the left player\n",
    "def newL():\n",
    "    sfL.path = folder + sounds[random.randint(0, 3)]\n",
    "    sfL.speed = random.uniform(0.75, 1.5)\n",
    "    sfL.out()                                                                       \n",
    "\n",
    "# The \"end-of-file\" signal triggers the function \"newL\"\n",
    "tfL = TrigFunc(sfL[\"trig\"], newL)\n",
    "\n",
    "# Function to choose a new sound and a new speed for the right player\n",
    "def newR():\n",
    "    sfR.path = folder + sounds[random.randint(0, 3)]\n",
    "    sfR.speed = random.uniform(0.75, 1.5)\n",
    "    sfR.out(1)\n",
    "\n",
    "# The \"end-of-file\" signal triggers the function \"newR\"\n",
    "tfR = TrigFunc(sfR[\"trig\"], newR)"
   ]
  },
  {
   "cell_type": "code",
   "execution_count": 4,
   "metadata": {},
   "outputs": [],
   "source": [
    "s.stop()\n"
   ]
  },
  {
   "cell_type": "code",
   "execution_count": null,
   "metadata": {},
   "outputs": [],
   "source": [
    "from pyo import *\n",
    "import random\n",
    "\n",
    "s = Server(duplex=0).boot()\n",
    "\n",
    "# Compute the duration, in seconds, of one buffer size.\n",
    "buftime = s.getBufferSize() / s.getSamplingRate()\n",
    "\n",
    "# Delay parameters\n",
    "delay_time_l = Sig(0.125)   # Delay time for the left channel delay.\n",
    "delay_time_l.ctrl()\n",
    "delay_feed = Sig(0.75)      # Feedback value for both delays.\n",
    "delay_feed.ctrl()\n",
    "\n",
    "# Because the right delay gets its input sound from the left delay, while\n",
    "# it is computed before (to send its output sound to the left delay), it\n",
    "# will be one buffer size late. To compensate this additional delay on the\n",
    "# right, we substract one buffer size from the real delay time.\n",
    "delay_time_r = Sig(delay_time_l, add=-buftime)\n",
    "\n",
    "# Setup up a soundfile player.\n",
    "sf = SfPlayer('snds/alum1.wav').stop()\n",
    "\n",
    "# Send the original sound to both speakers.\n",
    "sfout = sf.mix(2).out()\n",
    "\n",
    "# Initialize the right delay with zeros as input because the left delay\n",
    "# does not exist yet.\n",
    "right = Delay(Sig(0), delay=delay_time_r).out(1)\n",
    "\n",
    "# Initialize the left delay with the original mono source and the right\n",
    "# delay signal (multiplied by the feedback value) as input.\n",
    "left = Delay(sf + right * delay_feed, delay=delay_time_l).out()\n",
    "\n",
    "# One issue with recursive cross-delay is if we set the feedback to\n",
    "# 0, the right delay never gets any signal. To resolve this, we add a\n",
    "# non-recursive delay, with a gain that is the inverse of the feedback,\n",
    "# to the right delay input.\n",
    "original_delayed = Delay(sf, delay_time_l, mul=1-delay_feed)\n",
    "\n",
    "# Change the right delay input (now that the left delay exists).\n",
    "right.setInput(original_delayed + left * delay_feed)\n",
    "\n",
    "def playit():\n",
    "    \"Assign a sound to the player and start playback.\"\n",
    "    which = random.randint(1, 4)\n",
    "    path = \"snds/alum%d.wav\" % which\n",
    "    sf.path = path\n",
    "    sf.play()\n",
    "\n",
    "# Call the function \"playit\" every second.\n",
    "pat = Pattern(playit, 1).play()\n",
    "#s.gui(locals())"
   ]
  },
  {
   "cell_type": "code",
   "execution_count": null,
   "metadata": {},
   "outputs": [],
   "source": [
    "s.top()"
   ]
  },
  {
   "cell_type": "code",
   "execution_count": null,
   "metadata": {},
   "outputs": [],
   "source": [
    "from pyo import *\n",
    "\n",
    "# Creates and boots the server.\n",
    "# The user should send the \"start\" command from the GUI.\n",
    "s = Server().boot()\n",
    "# Drops the gain by 20 dB.\n",
    "s.amp = 0.1\n",
    "\n",
    "# Creates a sine wave player.\n",
    "# The out() method starts the processing\n",
    "# and sends the signal to the output.\n",
    "a = Sine().out()\n",
    "s.gui(locals())"
   ]
  },
  {
   "cell_type": "code",
   "execution_count": 3,
   "metadata": {},
   "outputs": [],
   "source": [
    "s.stop()"
   ]
  },
  {
   "cell_type": "code",
   "execution_count": 1,
   "metadata": {},
   "outputs": [
    {
     "data": {
      "text/plain": [
       "<pyo.lib.server.Server at 0x276d7d78400>"
      ]
     },
     "execution_count": 1,
     "metadata": {},
     "output_type": "execute_result"
    }
   ],
   "source": [
    "from pyo import *\n",
    "\n",
    "s = Server().boot()\n",
    "s.amp = 0.1\n",
    "\n",
    "# Creates a sine wave as the source to process.\n",
    "a = Sine().out()\n",
    "\n",
    "# Passes the sine wave through an harmonizer.\n",
    "h1 = Harmonizer(a).out()\n",
    "\n",
    "# Then the harmonized sound through another harmonizer.\n",
    "h2 = Harmonizer(h1).out()\n",
    "\n",
    "# And again...\n",
    "h3 = Harmonizer(h2).out()\n",
    "\n",
    "# And again...\n",
    "h4 = Harmonizer(h3).out()\n",
    "\n",
    "s.start()"
   ]
  },
  {
   "cell_type": "code",
   "execution_count": 2,
   "metadata": {},
   "outputs": [],
   "source": [
    "h5 = Harmonizer(h4).out()"
   ]
  },
  {
   "cell_type": "code",
   "execution_count": null,
   "metadata": {},
   "outputs": [],
   "source": [
    "from pyo import *\n",
    "\n",
    "s = Server().boot()\n",
    "\n",
    "# Sets fundamental frequency.\n",
    "freq = 187.5\n",
    "\n",
    "# Impulse train generator.\n",
    "lfo1 = Sine(.1).range(1, 50)\n",
    "osc1 = Blit(freq=freq, harms=lfo1, mul=0.3)\n",
    "\n",
    "# RC circuit.\n",
    "lfo2 = Sine(.1, mul=0.5, add=0.5)\n",
    "osc2 = RCOsc(freq=freq, sharp=lfo2, mul=0.3)\n",
    "\n",
    "# Sine wave oscillator with feedback.\n",
    "lfo3 = Sine(.1).range(0, .18)\n",
    "osc3 = SineLoop(freq=freq, feedback=lfo3, mul=0.3)\n",
    "\n",
    "# Roland JP-8000 Supersaw emulator.\n",
    "lfo4 = Sine(.1).range(0.1, 0.75)\n",
    "osc4 = SuperSaw(freq=freq, detune=lfo4, mul=0.3)\n",
    "\n",
    "# Interpolates between input objects to produce a single output\n",
    "sel = Selector([osc1, osc2, osc3, osc4]).out()\n",
    "sel.ctrl(title=\"Input interpolator (0=Blit, 1=RCOsc, 2=SineLoop, 3=SuperSaw)\")\n",
    "\n",
    "# Displays the waveform of the chosen source\n",
    "sc = Scope(sel)\n",
    "\n",
    "# Displays the spectrum contents of the chosen source\n",
    "sp = Spectrum(sel)\n",
    "\n"
   ]
  },
  {
   "cell_type": "code",
   "execution_count": 4,
   "metadata": {},
   "outputs": [
    {
     "data": {
      "text/plain": [
       "<pyo.lib.server.Server at 0x1ad612d9d68>"
      ]
     },
     "execution_count": 4,
     "metadata": {},
     "output_type": "execute_result"
    }
   ],
   "source": [
    "s.start()"
   ]
  },
  {
   "cell_type": "code",
   "execution_count": 12,
   "metadata": {},
   "outputs": [],
   "source": [
    "s.stop()"
   ]
  },
  {
   "cell_type": "code",
   "execution_count": 10,
   "metadata": {},
   "outputs": [
    {
     "data": {
      "text/plain": [
       "<pyo.lib.server.Server at 0x1ad612d9d68>"
      ]
     },
     "execution_count": 10,
     "metadata": {},
     "output_type": "execute_result"
    }
   ],
   "source": [
    "from pyo import *\n",
    "\n",
    "#s = Server().boot()\n",
    "\n",
    "x = [1, 0.5, 0.25,0.1]\n",
    "s.start()"
   ]
  },
  {
   "cell_type": "code",
   "execution_count": 11,
   "metadata": {},
   "outputs": [],
   "source": [
    "amp = Sine(0.2, mul=0.2, add=0.5)\n",
    "\n",
    "\n",
    "for f in x:\n",
    "    a = SineLoop(freq=f, feedback=0.2, mul=amp).out()\n",
    "    \n",
    "    \n"
   ]
  },
  {
   "cell_type": "code",
   "execution_count": 7,
   "metadata": {},
   "outputs": [],
   "source": [
    "from pyo import *\n",
    "\n",
    "#s = Server().boot()\n",
    "\n",
    "# Two streams of midi pitches chosen randomly in a predefined list.\n",
    "# The argument `choice` of Choice object can be a list of lists to\n",
    "# list-expansion.\n",
    "mid = Choice(choice=[60,62,63,65,67,69,71,72], freq=[2,3])\n",
    "\n",
    "# Two small jitters applied on frequency streams.\n",
    "# Randi interpolates between old and new values.\n",
    "jit = Randi(min=0.993, max=1.007, freq=[4.3,3.5])\n",
    "\n",
    "# Converts midi pitches to frequencies and applies the jitters.\n",
    "fr = MToF(mid, mul=jit)\n",
    "\n",
    "# Chooses a new feedback value, between 0 and 0.15, every 4 seconds.\n",
    "fd = Randi(min=0, max=0.15, freq=0.25)\n",
    "\n",
    "# RandInt generates a pseudo-random integer number between 0 and `max`\n",
    "# values at a frequency specified by `freq` parameter. It holds the\n",
    "# value until the next generation.\n",
    "# Generates an new LFO frequency once per second.\n",
    "sp = RandInt(max=6, freq=1, add=8)\n",
    "# Creates an LFO oscillating between 0 and 0.4.\n",
    "amp = Sine(sp, mul=0.2, add=0.5)\n",
    "\n",
    "# A simple synth...\n",
    "a = SineLoop(freq=fr, feedback=fd, mul=amp).out()"
   ]
  },
  {
   "cell_type": "code",
   "execution_count": 16,
   "metadata": {},
   "outputs": [],
   "source": [
    "from pyo import *\n",
    "\n",
    "s = Server().boot()\n",
    "\n",
    "### Oscilloscope ###\n",
    "\n",
    "# LFO applied to the `chaos` attribute\n",
    "lfo = Sine(0.2).range(0, 1)\n",
    "\n",
    "# Rossler attractor\n",
    "n1 = Rossler(pitch=0.5, chaos=lfo, stereo=True)\n",
    "\n",
    "# Lorenz attractor\n",
    "n2 = Lorenz(pitch=0.5, chaos=lfo, stereo=True)\n",
    "\n",
    "# ChenLee attractor\n",
    "n3 = ChenLee(pitch=0.5, chaos=lfo, stereo=True)\n",
    "\n",
    "# Interpolates between input objects to produce a single output\n",
    "sel = Selector([n1, n2, n3])\n",
    "sel.ctrl(title=\"Input interpolator (0=Rossler, 1=Lorenz, 2=ChenLee)\")\n",
    "\n",
    "# Displays the waveform of the chosen attractor\n",
    "sc = Scope(sel)\n",
    "\n",
    "### Audio ###\n",
    "\n",
    "# Lorenz with very low pitch value that acts as a LFO\n",
    "freq = Lorenz(0.005, chaos=0.7, stereo=True, mul=250, add=500)\n",
    "a = Sine(freq, mul=0.3).out()"
   ]
  },
  {
   "cell_type": "code",
   "execution_count": 19,
   "metadata": {},
   "outputs": [],
   "source": [
    "from pyo import *\n",
    "\n",
    "s = Server().boot()\n",
    "\n",
    "# White noise\n",
    "n1 = Noise(0.3)\n",
    "\n",
    "# Pink noise\n",
    "n2 = PinkNoise(0.3)\n",
    "\n",
    "# Brown noise\n",
    "n3 = BrownNoise(0.3)\n",
    "\n",
    "# Interpolates between input objects to produce a single output\n",
    "sel = Selector([n1, n2, n3]).out()\n",
    "sel.ctrl(title=\"Input interpolator (0=White, 1=Pink, 2=Brown)\")\n",
    "\n",
    "# Displays the spectrum contents of the chosen source\n",
    "sp = Spectrum(sel)"
   ]
  },
  {
   "cell_type": "code",
   "execution_count": null,
   "metadata": {},
   "outputs": [],
   "source": [
    "from pyo import *\n",
    "\n",
    "s = Server().boot()\n",
    "\n",
    "# FM implements the basic Chowning algorithm\n",
    "fm1 = FM(carrier=250, ratio=[1.5,1.49], index=10, mul=0.3)\n",
    "fm1.ctrl()\n",
    "\n",
    "# CrossFM implements a frequency modulation synthesis where the\n",
    "# output of both oscillators modulates the frequency of the other one.\n",
    "fm2 = CrossFM(carrier=250, ratio=[1.5,1.49], ind1=10, ind2=2, mul=0.3)\n",
    "fm2.ctrl()\n",
    "\n",
    "# Interpolates between input objects to produce a single output\n",
    "sel = Selector([fm1, fm2]).out()\n",
    "sel.ctrl(title=\"Input interpolator (0=FM, 1=CrossFM)\")\n",
    "\n",
    "# Displays the spectrum contents of the chosen source\n",
    "sp = Spectrum(sel)\n",
    "\n"
   ]
  },
  {
   "cell_type": "code",
   "execution_count": 2,
   "metadata": {},
   "outputs": [],
   "source": [
    "s.stop()"
   ]
  },
  {
   "cell_type": "code",
   "execution_count": 1,
   "metadata": {},
   "outputs": [
    {
     "data": {
      "text/plain": [
       "<pyo.lib.server.Server at 0x1ad5fb87588>"
      ]
     },
     "execution_count": 1,
     "metadata": {},
     "output_type": "execute_result"
    }
   ],
   "source": [
    "from pyo import *\n",
    "\n",
    "s = Server().boot()\n",
    "\n",
    "# Sets fundamental frequency.\n",
    "freq = 187.5\n",
    "\n",
    "# LFO applied to the `sharp` attribute\n",
    "lfo = Sine(.2, mul=0.5, add=0.5)\n",
    "\n",
    "# Various band-limited waveforms\n",
    "osc = LFO(freq=freq, sharp=lfo, mul=0.4).out()\n",
    "osc.ctrl()\n",
    "\n",
    "s.start()"
   ]
  },
  {
   "cell_type": "code",
   "execution_count": 141,
   "metadata": {},
   "outputs": [],
   "source": [
    "from pyo import *\n",
    "\n",
    "# Set this constant to True to loop over preset bank\n",
    "WITH_PRESET = True\n",
    "\n",
    "snds3 = ['snds/alum1.wav', 'snds/alum2.wav',\n",
    "        'snds/alum3.wav', 'snds/alum4.wav']\n",
    "\n",
    "presets = [[[16, 1, 0, 0, 0, 1, 0, 0, 0, 1, 0, 0, 0, 1, 0, 1, 0],\n",
    "            [16, 1, 0, 0, 0, 1, 0, 0, 0, 1, 0, 0, 0, 1, 0, 1, 0],\n",
    "            [16, 1, 0, 0, 0, 1, 0, 1, 0, 1, 0, 1, 0, 1, 0, 0, 0]],\n",
    "           [[16, 1, 1, 1, 1, 1, 1, 1, 1, 1, 0, 1, 1, 0, 1, 1, 1],\n",
    "            [16, 0, 0, 1, 1, 0, 1, 1, 0, 0, 0, 0, 1, 0, 0, 1, 0],\n",
    "            [16, 0, 0, 1, 0, 0, 0, 1, 1, 0, 0, 1, 1, 0, 0, 1, 0]],\n",
    "           [[16, 1, 1, 0, 1, 1, 1, 0, 1, 1, 0, 0, 1, 0, 1, 1, 1],\n",
    "            [16, 0, 0, 1, 1, 0, 0, 1, 0, 0, 0, 1, 0, 0, 1, 0, 0],\n",
    "            [16, 0, 1, 1, 0, 0, 0, 1, 1, 0, 0, 0, 0, 1, 1, 1, 0]],\n",
    "           [[16, 1, 1, 0, 1, 1, 1, 0, 1, 1, 0, 0, 1, 0, 1, 1, 1],\n",
    "            [16, 1, 0, 0, 0, 0, 0, 0, 0, 0, 1, 1, 0, 0, 1, 1, 0],\n",
    "            [16, 0, 1, 1, 0, 0, 0, 0, 0, 0, 0, 0, 1, 0, 1, 1, 1]]]\n",
    "\n",
    "#s = Server(duplex=0).boot()\n",
    "\n",
    "tm = Xnoise(dist=2, freq=0.1, x1=.5, x2=3, mul=0.25, add=.5)\n",
    "b = Beat(time=tm*0.5, w1=[90,30,30,20], w2=[30,90,50,40], w3=[0,30,30,40])\n",
    "if WITH_PRESET:\n",
    "    b.setPresets(presets)\n",
    "    b.recall(0)\n",
    "b.play()\n",
    "\n",
    "tabs = SndTable(snds3)\n",
    "out = TrigEnv(b, table=tabs, dur=b['dur']*2, interp=4, mul=b['amp']*0.5)\n",
    "pan = SPan(out, pan=[.25, .4, .6, .75]).mix(2)\n",
    "rev = WGVerb(pan, feedback=.65, cutoff=3500, bal=.2).out()\n",
    "\n",
    "def change():\n",
    "    b.fill()\n",
    "    b.new()\n",
    "\n",
    "def chAndCall(x):\n",
    "    b.fill()\n",
    "    b.recall(x)\n",
    "\n",
    "x = 0\n",
    "pre = 0\n",
    "def ch():\n",
    "    global x, pre\n",
    "    x += 1\n",
    "    if (x % 5) == 0:\n",
    "        if WITH_PRESET:\n",
    "            pre = (pre + 1) % 3\n",
    "            chAndCall(pre)\n",
    "        else:\n",
    "            change()\n",
    "\n",
    "tt = TrigFunc(b['end'][0], function=ch)"
   ]
  },
  {
   "cell_type": "code",
   "execution_count": 142,
   "metadata": {},
   "outputs": [
    {
     "data": {
      "text/plain": [
       "<pyo.lib.server.Server at 0x23fa48934e0>"
      ]
     },
     "execution_count": 142,
     "metadata": {},
     "output_type": "execute_result"
    }
   ],
   "source": [
    "s.start()\n"
   ]
  },
  {
   "cell_type": "code",
   "execution_count": 143,
   "metadata": {},
   "outputs": [],
   "source": [
    "s.stop()\n"
   ]
  },
  {
   "cell_type": "code",
   "execution_count": 62,
   "metadata": {},
   "outputs": [
    {
     "data": {
      "text/plain": [
       "[[16, 1, 0, 0, 0, 1, 0, 0, 0, 1, 0, 0, 0, 1, 0, 1, 0],\n",
       " [16, 1, 0, 0, 0, 1, 0, 0, 0, 1, 0, 0, 0, 1, 0, 1, 0],\n",
       " [16, 1, 0, 0, 0, 1, 0, 1, 0, 1, 0, 1, 0, 1, 0, 0, 0]]"
      ]
     },
     "execution_count": 62,
     "metadata": {},
     "output_type": "execute_result"
    }
   ],
   "source": [
    "presets[0]"
   ]
  },
  {
   "cell_type": "code",
   "execution_count": 138,
   "metadata": {},
   "outputs": [],
   "source": [
    "from pyo import *\n",
    "import random\n",
    "\n",
    "#s = Server(duplex=0).boot()\n",
    "\n",
    "SCALES = [[0,2,5,7,9,11], [0,2,3,7,8,11], [0,3,5,7,8,10]]\n",
    "\n",
    "class Melo:\n",
    "\n",
    "    def __init__(self, amp=.1, speed=1, midirange=(48,84)):\n",
    "        # table to record new melody fragment\n",
    "        self.table = NewTable(2)\n",
    "        # loopseg generation\n",
    "        self.base_mel = XnoiseMidi(dist=12, freq=8, x1=1, x2=.25, scale=0, mrange=midirange)\n",
    "        # snap on scale and convert to hertz\n",
    "        self.base_melo = Snap(self.base_mel, choice=[0,2,4,5,7,9,11], scale=1)\n",
    "        # record a new fragment every 10 seconds\n",
    "        self.trig_rec = Metro(time=10).play()\n",
    "        self.tab_rec = TrigTableRec(self.base_melo, self.trig_rec, self.table)\n",
    "        # rise amp of the oscillators after the first recording\n",
    "        self.amp = Counter(self.tab_rec[\"trig\"], min=1, max=2, mul=amp)\n",
    "        # random speed for the oscillator reading the melody table + portamento\n",
    "        self.speed = Choice(choice=[.0625,.125,.125,.125,.25,.5], freq=1.0*speed)\n",
    "        self.freq = Osc(self.table, self.speed*speed)\n",
    "        self.freq_port = Port(self.freq, risetime=.01, falltime=.01)\n",
    "        # 8 randis (freq and amp) to create a chorus of oscillators\n",
    "        self.rnd_chorus = Randi(min=.99, max=1.01, freq=[random.uniform(3,6) for i in range(8)])\n",
    "        self.rnd_amp = Randi(min=0, max=.15, freq=[random.uniform(.2,.5) for i in range(8)])\n",
    "        # oscillators...\n",
    "        self.osc = LFO(self.freq_port*self.rnd_chorus, type=3, sharp=.75,\n",
    "                       mul=Port(self.amp, mul=self.rnd_amp)).out()\n",
    "\n",
    "    def setScale(self, scl):\n",
    "        self.base_melo.choice = scl\n",
    "\n",
    "def choose_scale():\n",
    "    scl = random.choice(SCALES)\n",
    "    for obj in objs:\n",
    "        obj.setScale(scl)\n",
    "\n",
    "a = Melo(amp=.3, speed=0.6, midirange=(-24,90))\n",
    "#b = Melo(amp=.6, speed=0.5, midirange=(48,72))\n",
    "#c = Melo(amp=1, speed=0.25, midirange=(36,60))\n",
    "objs = [a,b,c]\n",
    "\n",
    "pat = Pattern(time=20, function=choose_scale).play()"
   ]
  },
  {
   "cell_type": "code",
   "execution_count": 140,
   "metadata": {},
   "outputs": [],
   "source": [
    "s.stop()"
   ]
  },
  {
   "cell_type": "code",
   "execution_count": 36,
   "metadata": {},
   "outputs": [],
   "source": [
    "from pyo import *\n",
    "\n",
    "s = Server(duplex=0).boot()\n",
    "\n",
    "#--> set list of frequencies\n",
    "low_freqs = [midiToHz(m+7) for m in [36,43.01,48,55.01,60]]\n",
    "mid_freqs = [midiToHz(m+7) for m in [60,62,63.93,65,67.01,69,71,72]]\n",
    "high_freqs = [midiToHz(m+7) for m in [72,74,75.93,77,79.01]]\n",
    "freqs = [low_freqs,low_freqs,mid_freqs,mid_freqs,high_freqs]\n",
    "#<--\n",
    "\n",
    "#-->\n",
    "chx = Choice(choice=freqs, freq=[1,2,3,3,4])\n",
    "port = Port(chx, risetime=.001, falltime=.001)\n",
    "sines = SineLoop(port, feedback=[.06,.057,.033,.035,.016], mul=[.15,.15,.1,.1,.06])\n",
    "pan = SPan(sines, pan=[0, 1, .2, .8, .5]).out()"
   ]
  },
  {
   "cell_type": "code",
   "execution_count": 25,
   "metadata": {},
   "outputs": [],
   "source": [
    "from pyo import *\n",
    "\n",
    "#s = Server().boot()\n",
    "\n",
    "scls = [[0,4,7,11,13,17,21,25,29,33],\n",
    "        [0,7,12,14,17,21,24,29,31,34],\n",
    "        [0,7,10,12,15,19,20]]\n",
    "\n",
    "env = CosTable([(0,0),(50,1),(500,.25),(8191,0)])\n",
    "wav = SquareTable(5)\n",
    "\n",
    "met = Metro(time=1, poly=1).play()\n",
    "note = TrigXnoiseMidi(met, dist=\"loopseg\", x1=1, x2=.2, mrange=(48,97))\n",
    "snp = Snap(note, choice=scls[0], scale=1)\n",
    "\n",
    "curscl = 0\n",
    "def changeScl():\n",
    "    # change the scale for snp.choice argument\n",
    "    global curscl\n",
    "    curscl = (curscl + 1) % len(scls)\n",
    "    snp.choice = scls[curscl]\n",
    "    print(snp.choice)\n",
    "\n",
    "metscl = Metro(time=1).play()\n",
    "tr = TrigFunc(metscl, function=changeScl)\n",
    "\n",
    "c = TrigEnv(met, table=env, mul=0.5)\n",
    "d = Osc(table=wav, freq=snp, mul=c).out()\n",
    "d1 = Osc(table=wav, freq=snp*0.1, mul=c).out()\n",
    "d2 = Osc(table=wav, freq=snp*1.002, mul=c).out()\n",
    "d3 = Osc(table=wav, freq=snp*0.997, mul=c).out()"
   ]
  },
  {
   "cell_type": "code",
   "execution_count": 4,
   "metadata": {},
   "outputs": [
    {
     "data": {
      "text/plain": [
       "<pyo.lib.server.Server at 0x23f93d2dd30>"
      ]
     },
     "execution_count": 4,
     "metadata": {},
     "output_type": "execute_result"
    }
   ],
   "source": [
    "s.start()"
   ]
  },
  {
   "cell_type": "code",
   "execution_count": 151,
   "metadata": {},
   "outputs": [],
   "source": [
    "s.stop()"
   ]
  },
  {
   "cell_type": "code",
   "execution_count": 31,
   "metadata": {},
   "outputs": [
    {
     "data": {
      "text/plain": [
       "< Instance of Osc class >"
      ]
     },
     "execution_count": 31,
     "metadata": {},
     "output_type": "execute_result"
    }
   ],
   "source": [
    "d.stop()"
   ]
  },
  {
   "cell_type": "code",
   "execution_count": 150,
   "metadata": {},
   "outputs": [
    {
     "data": {
      "text/plain": [
       "< Instance of Osc class >"
      ]
     },
     "execution_count": 150,
     "metadata": {},
     "output_type": "execute_result"
    }
   ],
   "source": [
    "d3.stop()"
   ]
  },
  {
   "cell_type": "code",
   "execution_count": 149,
   "metadata": {},
   "outputs": [],
   "source": [
    "s = Server().boot()\n",
    "s.start()\n",
    "n = Noise(.3)\n",
    "lf = Sine(freq=.2, mul=800, add=1000)\n",
    "f = Tone(n, lf).mix(2).out()"
   ]
  },
  {
   "cell_type": "code",
   "execution_count": null,
   "metadata": {},
   "outputs": [],
   "source": []
  }
 ],
 "metadata": {
  "kernelspec": {
   "display_name": "Python 3",
   "language": "python",
   "name": "python3"
  },
  "language_info": {
   "codemirror_mode": {
    "name": "ipython",
    "version": 3
   },
   "file_extension": ".py",
   "mimetype": "text/x-python",
   "name": "python",
   "nbconvert_exporter": "python",
   "pygments_lexer": "ipython3",
   "version": "3.6.8"
  }
 },
 "nbformat": 4,
 "nbformat_minor": 2
}
